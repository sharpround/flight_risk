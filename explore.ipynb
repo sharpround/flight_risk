{
 "cells": [
  {
   "cell_type": "code",
   "execution_count": 1,
   "metadata": {
    "collapsed": false
   },
   "outputs": [],
   "source": [
    "import pandas as pd\n",
    "import numpy as np\n",
    "import matplotlib.pyplot as plt\n",
    "from os import listdir"
   ]
  },
  {
   "cell_type": "code",
   "execution_count": 98,
   "metadata": {
    "collapsed": false
   },
   "outputs": [
    {
     "name": "stderr",
     "output_type": "stream",
     "text": [
      "C:\\Users\\db161_000\\Anaconda3\\lib\\site-packages\\IPython\\core\\interactiveshell.py:2902: DtypeWarning: Columns (48) have mixed types. Specify dtype option on import or set low_memory=False.\n",
      "  interactivity=interactivity, compiler=compiler, result=result)\n"
     ]
    }
   ],
   "source": [
    "filename = 'on_time/On_Time_On_Time_Performance_2015_9.csv'\n",
    "\n",
    "df = pd.read_csv(filename,\n",
    "                usecols=[\"AirlineID\",\n",
    "                        \"OriginAirportID\",\n",
    "                        \"OriginCityMarketID\",\n",
    "                        \"OriginCityName\",\n",
    "                        \"DestAirportID\",\n",
    "                        \"DestCityMarketID\",\n",
    "                        \"DestCityName\",\n",
    "                        \"CRSDepTime\",\n",
    "                        \"DepDelay\",\n",
    "                        \"DepDel15\",\n",
    "                        \"DepartureDelayGroups\",\n",
    "                        \"DepTimeBlk\",\n",
    "                        \"WheelsOff\",\n",
    "                        \"CRSArrTime\",\n",
    "                        \"ArrDelay\",\n",
    "                        \"ArrDel15\",\n",
    "                        \"ArrivalDelayGroups\",\n",
    "                        \"ArrTimeBlk\",\n",
    "                        \"WheelsOn\",\n",
    "                        \"Cancelled\",\n",
    "                        \"CancellationCode\",\n",
    "                        \"CRSElapsedTime\",\n",
    "                        \"Flights\",\n",
    "                        \"ActualElapsedTime\",\n",
    "                        \"Distance\",\n",
    "                        \"DistanceGroup\",\n",
    "                        \"CarrierDelay\",\n",
    "                        \"WeatherDelay\",\n",
    "                        \"NASDelay\",\n",
    "                        \"SecurityDelay\",\n",
    "                        \"LateAircraftDelay\"])"
   ]
  },
  {
   "cell_type": "code",
   "execution_count": 99,
   "metadata": {
    "collapsed": false
   },
   "outputs": [
    {
     "name": "stdout",
     "output_type": "stream",
     "text": [
      "number of airports: 308\n",
      "number of airlines: 13\n"
     ]
    }
   ],
   "source": [
    "print(\"number of airports: \" + str(len(df[\"OriginAirportID\"].unique())))\n",
    "print(\"number of airlines: \" + str(len(df[\"AirlineID\"].unique())))"
   ]
  },
  {
   "cell_type": "code",
   "execution_count": 18,
   "metadata": {
    "collapsed": false
   },
   "outputs": [
    {
     "name": "stdout",
     "output_type": "stream",
     "text": [
      "num of fields: 30\n",
      "OriginAirportID\n",
      "OriginCityMarketID\n",
      "OriginCityName\n",
      "DestAirportID\n",
      "DestCityMarketID\n",
      "DestCityName\n",
      "CRSDepTime\n",
      "DepDelay\n",
      "DepDel15\n",
      "DepartureDelayGroups\n",
      "DepTimeBlk\n",
      "WheelsOff\n",
      "WheelsOn\n",
      "CRSArrTime\n",
      "ArrDelay\n",
      "ArrDel15\n",
      "ArrivalDelayGroups\n",
      "ArrTimeBlk\n",
      "Cancelled\n",
      "CancellationCode\n",
      "CRSElapsedTime\n",
      "ActualElapsedTime\n",
      "Flights\n",
      "Distance\n",
      "DistanceGroup\n",
      "CarrierDelay\n",
      "WeatherDelay\n",
      "NASDelay\n",
      "SecurityDelay\n",
      "LateAircraftDelay\n"
     ]
    }
   ],
   "source": [
    "print(\"num of fields: \" + str(len(df.columns)))\n",
    "for col in df.columns:\n",
    "    print(col)"
   ]
  },
  {
   "cell_type": "code",
   "execution_count": 93,
   "metadata": {
    "collapsed": false
   },
   "outputs": [
    {
     "name": "stdout",
     "output_type": "stream",
     "text": [
      "fraction cancelled: 0.004462883861781799\n",
      "unique codes: ['A' 'C' 'B']\n",
      "A: 1088\n",
      "B: 505\n",
      "C: 482\n"
     ]
    }
   ],
   "source": [
    "# cancellations\n",
    "# Code,Description\n",
    "# \"A\",\"Carrier\"\n",
    "# \"B\",\"Weather\"\n",
    "# \"C\",\"National Air System\"\n",
    "# \"D\",\"Security\"\n",
    "\n",
    "df_cancel = df[df[\"Cancelled\"] == 1]\n",
    "print(\"fraction cancelled: \" + str(len(df_cancel)/len(df)))\n",
    "\n",
    "print(\"unique codes: \" + str(df_cancel[\"CancellationCode\"].unique()))\n",
    "\n",
    "# reasons for cancellation\n",
    "grouped = df_cancel.groupby(\"CancellationCode\")\n",
    "\n",
    "for group in grouped:\n",
    "    print(str(group[0]) + \": \" + str(len(group[1])))\n",
    "\n",
    "plt.close('all')\n",
    "plt.style.use('ggplot')\n",
    "fig, ax = plt.subplots()\n",
    "df_cancel[\"CancellationCode\"].value_counts().plot(kind='bar', ax=ax)\n",
    "ax.set_xticklabels((\"Carrier\", \"Weather\", \"National Air System\"))\n",
    "plt.tight_layout()\n",
    "plt.grid('on')\n",
    "plt.show()"
   ]
  },
  {
   "cell_type": "code",
   "execution_count": 15,
   "metadata": {
    "collapsed": false
   },
   "outputs": [
    {
     "name": "stdout",
     "output_type": "stream",
     "text": [
      "['On_Time_On_Time_Performance_2000_1.csv', 'On_Time_On_Time_Performance_2000_10.csv', 'On_Time_On_Time_Performance_2000_11.csv', 'On_Time_On_Time_Performance_2000_12.csv', 'On_Time_On_Time_Performance_2000_2.csv', 'On_Time_On_Time_Performance_2000_3.csv', 'On_Time_On_Time_Performance_2000_4.csv', 'On_Time_On_Time_Performance_2000_5.csv', 'On_Time_On_Time_Performance_2000_6.csv', 'On_Time_On_Time_Performance_2000_7.csv', 'On_Time_On_Time_Performance_2000_8.csv', 'On_Time_On_Time_Performance_2000_9.csv']\n"
     ]
    }
   ],
   "source": [
    "usecols = [\"FlightDate\",\n",
    "           \"UniqueCarrier\",\n",
    "           \"OriginAirportID\",\n",
    "           \"OriginAirportSeqID\",\n",
    "           \"OriginCityMarketID\",\n",
    "           \"OriginState\",\n",
    "           \"DestAirportID\",\n",
    "           \"DestAirportSeqID\",\n",
    "           \"DestCityMarketID\",\n",
    "           \"DestState\",\n",
    "           \"CRSDepTime\",\n",
    "           \"DepTimeBlk\",\n",
    "           \"CRSArrTime\",\n",
    "           \"ArrTimeBlk\",\n",
    "           \"CRSElapsedTime\",\n",
    "           \"Distance\",\n",
    "           \"DistanceGroup\",\n",
    "           \"Cancelled\",\n",
    "           \"CancellationCode\"]\n",
    "\n",
    "filenames = listdir('on_time')\n",
    "\n",
    "filenames = filenames[0:12]\n",
    "print(filenames)"
   ]
  },
  {
   "cell_type": "code",
   "execution_count": 25,
   "metadata": {
    "collapsed": false
   },
   "outputs": [
    {
     "name": "stdout",
     "output_type": "stream",
     "text": [
      "length of files: 5683047\n",
      "length of final list: 5683047\n"
     ]
    }
   ],
   "source": [
    "df_list = []\n",
    "for name in filenames:\n",
    "    df_list.append(pd.read_csv(\"on_time/\" + name, header=0, usecols=usecols, index_col=None))\n",
    "df = pd.concat(df_list)\n",
    "del(df_list)"
   ]
  },
  {
   "cell_type": "code",
   "execution_count": 30,
   "metadata": {
    "collapsed": false
   },
   "outputs": [
    {
     "data": {
      "text/plain": [
       "5683047"
      ]
     },
     "execution_count": 30,
     "metadata": {},
     "output_type": "execute_result"
    }
   ],
   "source": [
    "len(df)"
   ]
  },
  {
   "cell_type": "code",
   "execution_count": 42,
   "metadata": {
    "collapsed": false
   },
   "outputs": [],
   "source": [
    "d = pd.get_dummies(df['DestAirportID'], dummy_na=True)"
   ]
  },
  {
   "cell_type": "code",
   "execution_count": 44,
   "metadata": {
    "collapsed": false
   },
   "outputs": [
    {
     "data": {
      "text/plain": [
       "5683047"
      ]
     },
     "execution_count": 44,
     "metadata": {},
     "output_type": "execute_result"
    }
   ],
   "source": [
    "def record_to_features(filename):\n",
    "    df = pd.read_csv(filename)\n",
    "    usecols = get_columns\n",
    "    \n",
    "    return X, X_headers"
   ]
  },
  {
   "cell_type": "code",
   "execution_count": null,
   "metadata": {
    "collapsed": true
   },
   "outputs": [],
   "source": []
  }
 ],
 "metadata": {
  "kernelspec": {
   "display_name": "Python 3",
   "language": "python",
   "name": "python3"
  },
  "language_info": {
   "codemirror_mode": {
    "name": "ipython",
    "version": 3
   },
   "file_extension": ".py",
   "mimetype": "text/x-python",
   "name": "python",
   "nbconvert_exporter": "python",
   "pygments_lexer": "ipython3",
   "version": "3.4.4"
  }
 },
 "nbformat": 4,
 "nbformat_minor": 0
}
