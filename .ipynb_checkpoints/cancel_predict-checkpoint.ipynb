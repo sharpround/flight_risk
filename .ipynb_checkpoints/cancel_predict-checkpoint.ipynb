{
 "cells": [
  {
   "cell_type": "code",
   "execution_count": 1,
   "metadata": {
    "collapsed": true
   },
   "outputs": [],
   "source": [
    "import pandas as pd\n",
    "import numpy as np"
   ]
  },
  {
   "cell_type": "code",
   "execution_count": 2,
   "metadata": {
    "collapsed": true
   },
   "outputs": [],
   "source": [
    "filename = 'on_time/On_Time_On_Time_Performance_2015_9.csv'\n",
    "\n",
    "usecols = [\"FlightDate\",\n",
    "           \"UniqueCarrier\",\n",
    "           \"OriginAirportID\",\n",
    "           \"OriginAirportSeqID\",\n",
    "           \"OriginCityMarketID\",\n",
    "           \"OriginState\",\n",
    "           \"DestAirportID\",\n",
    "           \"DestAirportSeqID\",\n",
    "           \"DestCityMarketID\",\n",
    "           \"DestState\",\n",
    "           \"CRSDepTime\",\n",
    "           \"DepTimeBlk\",\n",
    "           \"CRSArrTime\",\n",
    "           \"ArrTimeBlk\",\n",
    "           \"CRSElapsedTime\",\n",
    "           \"Distance\",\n",
    "           \"DistanceGroup\"]\n",
    "\n",
    "df = pd.read_csv(filename,\n",
    "                usecols=usecols)"
   ]
  },
  {
   "cell_type": "code",
   "execution_count": null,
   "metadata": {
    "collapsed": true
   },
   "outputs": [],
   "source": [
    "def make_feature_array(df):\n",
    "    \n",
    "    pass"
   ]
  },
  {
   "cell_type": "code",
   "execution_count": null,
   "metadata": {
    "collapsed": true
   },
   "outputs": [],
   "source": [
    "def make_target_vector(df):"
   ]
  },
  {
   "cell_type": "code",
   "execution_count": null,
   "metadata": {
    "collapsed": true
   },
   "outputs": [],
   "source": []
  }
 ],
 "metadata": {
  "kernelspec": {
   "display_name": "Python 3",
   "language": "python",
   "name": "python3"
  },
  "language_info": {
   "codemirror_mode": {
    "name": "ipython",
    "version": 3
   },
   "file_extension": ".py",
   "mimetype": "text/x-python",
   "name": "python",
   "nbconvert_exporter": "python",
   "pygments_lexer": "ipython3",
   "version": "3.4.4"
  }
 },
 "nbformat": 4,
 "nbformat_minor": 0
}
