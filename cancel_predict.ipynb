{
 "cells": [
  {
   "cell_type": "code",
   "execution_count": 1,
   "metadata": {
    "collapsed": true
   },
   "outputs": [],
   "source": [
    "import pandas as pd\n",
    "import numpy as np"
   ]
  },
  {
   "cell_type": "code",
   "execution_count": 40,
   "metadata": {
    "collapsed": false
   },
   "outputs": [
    {
     "name": "stderr",
     "output_type": "stream",
     "text": [
      "C:\\Users\\db161_000\\Anaconda3\\lib\\site-packages\\IPython\\core\\interactiveshell.py:2902: DtypeWarning: Columns (48) have mixed types. Specify dtype option on import or set low_memory=False.\n",
      "  interactivity=interactivity, compiler=compiler, result=result)\n"
     ]
    }
   ],
   "source": [
    "filename = 'on_time/On_Time_On_Time_Performance_2015_9.csv'\n",
    "\n",
    "usecols = [\"FlightDate\",\n",
    "           \"UniqueCarrier\",\n",
    "           \"OriginAirportID\",\n",
    "           \"OriginAirportSeqID\",\n",
    "           \"OriginCityMarketID\",\n",
    "           \"OriginState\",\n",
    "           \"DestAirportID\",\n",
    "           \"DestAirportSeqID\",\n",
    "           \"DestCityMarketID\",\n",
    "           \"DestState\",\n",
    "           \"CRSDepTime\",\n",
    "           \"DepTimeBlk\",\n",
    "           \"CRSArrTime\",\n",
    "           \"ArrTimeBlk\",\n",
    "           \"CRSElapsedTime\",\n",
    "           \"Distance\",\n",
    "           \"DistanceGroup\",\n",
    "           \"Cancelled\",\n",
    "           \"CancellationCode\"]\n",
    "\n",
    "df = pd.read_csv(filename,\n",
    "                usecols=usecols)\n",
    "\n",
    "df[\"CancellationCode\"].fillna(\"NA\", inplace=True)"
   ]
  },
  {
   "cell_type": "code",
   "execution_count": 41,
   "metadata": {
    "collapsed": false
   },
   "outputs": [
    {
     "name": "stdout",
     "output_type": "stream",
     "text": [
      "0 NA\n",
      "1 A\n",
      "2 C\n",
      "3 B\n"
     ]
    }
   ],
   "source": [
    "for i, value in enumerate(df[\"CancellationCode\"].unique()):\n",
    "    print(i, value)"
   ]
  },
  {
   "cell_type": "code",
   "execution_count": 43,
   "metadata": {
    "collapsed": false
   },
   "outputs": [
    {
     "data": {
      "text/html": [
       "<div>\n",
       "<table border=\"1\" class=\"dataframe\">\n",
       "  <thead>\n",
       "    <tr style=\"text-align: right;\">\n",
       "      <th></th>\n",
       "      <th>FlightDate</th>\n",
       "      <th>UniqueCarrier</th>\n",
       "      <th>OriginAirportID</th>\n",
       "      <th>OriginAirportSeqID</th>\n",
       "      <th>OriginCityMarketID</th>\n",
       "      <th>OriginState</th>\n",
       "      <th>DestAirportID</th>\n",
       "      <th>DestAirportSeqID</th>\n",
       "      <th>DestCityMarketID</th>\n",
       "      <th>DestState</th>\n",
       "      <th>CRSDepTime</th>\n",
       "      <th>DepTimeBlk</th>\n",
       "      <th>CRSArrTime</th>\n",
       "      <th>ArrTimeBlk</th>\n",
       "      <th>Cancelled</th>\n",
       "      <th>CancellationCode</th>\n",
       "      <th>CRSElapsedTime</th>\n",
       "      <th>Distance</th>\n",
       "      <th>DistanceGroup</th>\n",
       "    </tr>\n",
       "  </thead>\n",
       "  <tbody>\n",
       "    <tr>\n",
       "      <th>0</th>\n",
       "      <td>2015-09-01</td>\n",
       "      <td>12</td>\n",
       "      <td>116</td>\n",
       "      <td>35</td>\n",
       "      <td>264</td>\n",
       "      <td>1</td>\n",
       "      <td>52</td>\n",
       "      <td>296</td>\n",
       "      <td>178</td>\n",
       "      <td>35</td>\n",
       "      <td>900</td>\n",
       "      <td>4</td>\n",
       "      <td>1213</td>\n",
       "      <td>15</td>\n",
       "      <td>0</td>\n",
       "      <td>1</td>\n",
       "      <td>373</td>\n",
       "      <td>2475</td>\n",
       "      <td>9</td>\n",
       "    </tr>\n",
       "    <tr>\n",
       "      <th>1</th>\n",
       "      <td>2015-09-02</td>\n",
       "      <td>12</td>\n",
       "      <td>116</td>\n",
       "      <td>35</td>\n",
       "      <td>264</td>\n",
       "      <td>1</td>\n",
       "      <td>52</td>\n",
       "      <td>296</td>\n",
       "      <td>178</td>\n",
       "      <td>35</td>\n",
       "      <td>900</td>\n",
       "      <td>4</td>\n",
       "      <td>1213</td>\n",
       "      <td>15</td>\n",
       "      <td>0</td>\n",
       "      <td>1</td>\n",
       "      <td>373</td>\n",
       "      <td>2475</td>\n",
       "      <td>9</td>\n",
       "    </tr>\n",
       "    <tr>\n",
       "      <th>2</th>\n",
       "      <td>2015-09-03</td>\n",
       "      <td>12</td>\n",
       "      <td>116</td>\n",
       "      <td>35</td>\n",
       "      <td>264</td>\n",
       "      <td>1</td>\n",
       "      <td>52</td>\n",
       "      <td>296</td>\n",
       "      <td>178</td>\n",
       "      <td>35</td>\n",
       "      <td>900</td>\n",
       "      <td>4</td>\n",
       "      <td>1213</td>\n",
       "      <td>15</td>\n",
       "      <td>0</td>\n",
       "      <td>1</td>\n",
       "      <td>373</td>\n",
       "      <td>2475</td>\n",
       "      <td>9</td>\n",
       "    </tr>\n",
       "    <tr>\n",
       "      <th>3</th>\n",
       "      <td>2015-09-04</td>\n",
       "      <td>12</td>\n",
       "      <td>116</td>\n",
       "      <td>35</td>\n",
       "      <td>264</td>\n",
       "      <td>1</td>\n",
       "      <td>52</td>\n",
       "      <td>296</td>\n",
       "      <td>178</td>\n",
       "      <td>35</td>\n",
       "      <td>900</td>\n",
       "      <td>4</td>\n",
       "      <td>1213</td>\n",
       "      <td>15</td>\n",
       "      <td>0</td>\n",
       "      <td>1</td>\n",
       "      <td>373</td>\n",
       "      <td>2475</td>\n",
       "      <td>9</td>\n",
       "    </tr>\n",
       "    <tr>\n",
       "      <th>4</th>\n",
       "      <td>2015-09-05</td>\n",
       "      <td>12</td>\n",
       "      <td>116</td>\n",
       "      <td>35</td>\n",
       "      <td>264</td>\n",
       "      <td>1</td>\n",
       "      <td>52</td>\n",
       "      <td>296</td>\n",
       "      <td>178</td>\n",
       "      <td>35</td>\n",
       "      <td>900</td>\n",
       "      <td>4</td>\n",
       "      <td>1213</td>\n",
       "      <td>15</td>\n",
       "      <td>0</td>\n",
       "      <td>1</td>\n",
       "      <td>373</td>\n",
       "      <td>2475</td>\n",
       "      <td>9</td>\n",
       "    </tr>\n",
       "  </tbody>\n",
       "</table>\n",
       "</div>"
      ],
      "text/plain": [
       "   FlightDate  UniqueCarrier  OriginAirportID  OriginAirportSeqID  \\\n",
       "0  2015-09-01             12              116                  35   \n",
       "1  2015-09-02             12              116                  35   \n",
       "2  2015-09-03             12              116                  35   \n",
       "3  2015-09-04             12              116                  35   \n",
       "4  2015-09-05             12              116                  35   \n",
       "\n",
       "   OriginCityMarketID  OriginState  DestAirportID  DestAirportSeqID  \\\n",
       "0                 264            1             52               296   \n",
       "1                 264            1             52               296   \n",
       "2                 264            1             52               296   \n",
       "3                 264            1             52               296   \n",
       "4                 264            1             52               296   \n",
       "\n",
       "   DestCityMarketID  DestState  CRSDepTime  DepTimeBlk  CRSArrTime  \\\n",
       "0               178         35         900           4        1213   \n",
       "1               178         35         900           4        1213   \n",
       "2               178         35         900           4        1213   \n",
       "3               178         35         900           4        1213   \n",
       "4               178         35         900           4        1213   \n",
       "\n",
       "   ArrTimeBlk  Cancelled  CancellationCode  CRSElapsedTime  Distance  \\\n",
       "0          15          0                 1             373      2475   \n",
       "1          15          0                 1             373      2475   \n",
       "2          15          0                 1             373      2475   \n",
       "3          15          0                 1             373      2475   \n",
       "4          15          0                 1             373      2475   \n",
       "\n",
       "   DistanceGroup  \n",
       "0              9  \n",
       "1              9  \n",
       "2              9  \n",
       "3              9  \n",
       "4              9  "
      ]
     },
     "execution_count": 43,
     "metadata": {},
     "output_type": "execute_result"
    }
   ],
   "source": [
    "def transform_categorical_feature(df, column_name):\n",
    "    unique_values = set( df[column_name].tolist() ) # this handle NaN better than df[column_name].unique()\n",
    "    transformer_dict = {}\n",
    "    for ii, value in enumerate( unique_values ):\n",
    "        transformer_dict[value] = ii\n",
    "\n",
    "    def label_map(y):\n",
    "        return transformer_dict[y]\n",
    "    \n",
    "    df[column_name] = df[column_name].apply( label_map )\n",
    "    return df\n",
    "\n",
    "\n",
    "categorical_variables = [\"UniqueCarrier\",\n",
    "                         \"OriginAirportID\",\n",
    "                         \"OriginAirportSeqID\",\n",
    "                         \"OriginCityMarketID\",\n",
    "                         \"OriginState\",\n",
    "                         \"DestAirportID\",\n",
    "                         \"DestAirportSeqID\",\n",
    "                         \"DestCityMarketID\",\n",
    "                         \"DepTimeBlk\",\n",
    "                         \"ArrTimeBlk\",\n",
    "                         \"DistanceGroup\",\n",
    "                         \"DestState\",   \n",
    "                         \"Cancelled\",\n",
    "                         \"CancellationCode\"]\n",
    "\n",
    "for var in categorical_variables:\n",
    "    df_transformed = transform_categorical_feature(df, var)\n",
    "    \n",
    "df_transformed.head()"
   ]
  },
  {
   "cell_type": "code",
   "execution_count": 48,
   "metadata": {
    "collapsed": false
   },
   "outputs": [
    {
     "name": "stdout",
     "output_type": "stream",
     "text": [
      "UniqueCarrier: \t13\n",
      "OriginAirportID: \t308\n",
      "OriginAirportSeqID: \t308\n",
      "OriginCityMarketID: \t287\n",
      "OriginState: \t52\n",
      "DestAirportID: \t309\n",
      "DestAirportSeqID: \t309\n",
      "DestCityMarketID: \t288\n",
      "DepTimeBlk: \t19\n",
      "ArrTimeBlk: \t19\n",
      "DistanceGroup: \t11\n",
      "DestState: \t52\n",
      "Cancelled: \t2\n",
      "CancellationCode: \t4\n",
      "total number of categorical dimensions: 1981\n"
     ]
    }
   ],
   "source": [
    "num_of_dim = 0\n",
    "for var in categorical_variables:\n",
    "    dim = df_transformed[var].max() + 1\n",
    "    num_of_dim += dim\n",
    "    print(var + \": \\t\" + str(dim))\n",
    "\n",
    "print(\"total number of categorical dimensions: \" + str(num_of_dim))"
   ]
  },
  {
   "cell_type": "code",
   "execution_count": 56,
   "metadata": {
    "collapsed": false
   },
   "outputs": [
    {
     "name": "stdout",
     "output_type": "stream",
     "text": [
      "[[ 12 116  35 ...,  15   9  35]\n",
      " [ 12 116  35 ...,  15   9  35]\n",
      " [ 12 116  35 ...,  15   9  35]\n",
      " ..., \n",
      " [  8 109 166 ...,  12   0  20]\n",
      " [  8 109 166 ...,  12   0  20]\n",
      " [  8 109 166 ...,  12   0  20]]\n"
     ]
    }
   ],
   "source": [
    "feature_cols = [\"UniqueCarrier\",\n",
    "            \"OriginAirportID\",\n",
    "            \"OriginAirportSeqID\",\n",
    "            \"OriginCityMarketID\",\n",
    "            \"OriginState\",\n",
    "            \"DestAirportID\",\n",
    "            \"DestAirportSeqID\",\n",
    "            \"DestCityMarketID\",\n",
    "            \"DepTimeBlk\",\n",
    "            \"ArrTimeBlk\",\n",
    "            \"DistanceGroup\",\n",
    "            \"DestState\"]\n",
    "target_col = \"Cancelled\"\n",
    "X = df_transformed[feature_cols].as_matrix()\n",
    "print(X)"
   ]
  },
  {
   "cell_type": "code",
   "execution_count": 55,
   "metadata": {
    "collapsed": false
   },
   "outputs": [
    {
     "ename": "TypeError",
     "evalue": "A sparse matrix was passed, but dense data is required. Use X.toarray() to convert to a dense numpy array.",
     "output_type": "error",
     "traceback": [
      "\u001b[1;31m---------------------------------------------------------------------------\u001b[0m",
      "\u001b[1;31mTypeError\u001b[0m                                 Traceback (most recent call last)",
      "\u001b[1;32m<ipython-input-55-ad471ada630e>\u001b[0m in \u001b[0;36m<module>\u001b[1;34m()\u001b[0m\n\u001b[0;32m      3\u001b[0m \u001b[0menc\u001b[0m \u001b[1;33m=\u001b[0m \u001b[0mOneHotEncoder\u001b[0m\u001b[1;33m(\u001b[0m\u001b[1;33m)\u001b[0m\u001b[1;33m\u001b[0m\u001b[0m\n\u001b[0;32m      4\u001b[0m \u001b[1;33m\u001b[0m\u001b[0m\n\u001b[1;32m----> 5\u001b[1;33m \u001b[0mX\u001b[0m \u001b[1;33m=\u001b[0m \u001b[0menc\u001b[0m\u001b[1;33m.\u001b[0m\u001b[0mfit_transform\u001b[0m\u001b[1;33m(\u001b[0m\u001b[0mX\u001b[0m\u001b[1;33m)\u001b[0m\u001b[1;33m\u001b[0m\u001b[0m\n\u001b[0m\u001b[0;32m      6\u001b[0m \u001b[1;33m\u001b[0m\u001b[0m\n\u001b[0;32m      7\u001b[0m \u001b[1;31m# clf = sklearn.linear_model.LogisticRegression()\u001b[0m\u001b[1;33m\u001b[0m\u001b[1;33m\u001b[0m\u001b[0m\n",
      "\u001b[1;32mC:\\Users\\db161_000\\Anaconda3\\lib\\site-packages\\sklearn\\preprocessing\\data.py\u001b[0m in \u001b[0;36mfit_transform\u001b[1;34m(self, X, y)\u001b[0m\n\u001b[0;32m   1121\u001b[0m         \"\"\"\n\u001b[0;32m   1122\u001b[0m         return _transform_selected(X, self._fit_transform,\n\u001b[1;32m-> 1123\u001b[1;33m                                    self.categorical_features, copy=True)\n\u001b[0m\u001b[0;32m   1124\u001b[0m \u001b[1;33m\u001b[0m\u001b[0m\n\u001b[0;32m   1125\u001b[0m     \u001b[1;32mdef\u001b[0m \u001b[0m_transform\u001b[0m\u001b[1;33m(\u001b[0m\u001b[0mself\u001b[0m\u001b[1;33m,\u001b[0m \u001b[0mX\u001b[0m\u001b[1;33m)\u001b[0m\u001b[1;33m:\u001b[0m\u001b[1;33m\u001b[0m\u001b[0m\n",
      "\u001b[1;32mC:\\Users\\db161_000\\Anaconda3\\lib\\site-packages\\sklearn\\preprocessing\\data.py\u001b[0m in \u001b[0;36m_transform_selected\u001b[1;34m(X, transform, selected, copy)\u001b[0m\n\u001b[0;32m    934\u001b[0m     \"\"\"\n\u001b[0;32m    935\u001b[0m     \u001b[1;32mif\u001b[0m \u001b[0mselected\u001b[0m \u001b[1;33m==\u001b[0m \u001b[1;34m\"all\"\u001b[0m\u001b[1;33m:\u001b[0m\u001b[1;33m\u001b[0m\u001b[0m\n\u001b[1;32m--> 936\u001b[1;33m         \u001b[1;32mreturn\u001b[0m \u001b[0mtransform\u001b[0m\u001b[1;33m(\u001b[0m\u001b[0mX\u001b[0m\u001b[1;33m)\u001b[0m\u001b[1;33m\u001b[0m\u001b[0m\n\u001b[0m\u001b[0;32m    937\u001b[0m \u001b[1;33m\u001b[0m\u001b[0m\n\u001b[0;32m    938\u001b[0m     \u001b[0mX\u001b[0m \u001b[1;33m=\u001b[0m \u001b[0mcheck_array\u001b[0m\u001b[1;33m(\u001b[0m\u001b[0mX\u001b[0m\u001b[1;33m,\u001b[0m \u001b[0maccept_sparse\u001b[0m\u001b[1;33m=\u001b[0m\u001b[1;34m'csc'\u001b[0m\u001b[1;33m,\u001b[0m \u001b[0mcopy\u001b[0m\u001b[1;33m=\u001b[0m\u001b[0mcopy\u001b[0m\u001b[1;33m)\u001b[0m\u001b[1;33m\u001b[0m\u001b[0m\n",
      "\u001b[1;32mC:\\Users\\db161_000\\Anaconda3\\lib\\site-packages\\sklearn\\preprocessing\\data.py\u001b[0m in \u001b[0;36m_fit_transform\u001b[1;34m(self, X)\u001b[0m\n\u001b[0;32m   1070\u001b[0m     \u001b[1;32mdef\u001b[0m \u001b[0m_fit_transform\u001b[0m\u001b[1;33m(\u001b[0m\u001b[0mself\u001b[0m\u001b[1;33m,\u001b[0m \u001b[0mX\u001b[0m\u001b[1;33m)\u001b[0m\u001b[1;33m:\u001b[0m\u001b[1;33m\u001b[0m\u001b[0m\n\u001b[0;32m   1071\u001b[0m         \u001b[1;34m\"\"\"Assumes X contains only categorical features.\"\"\"\u001b[0m\u001b[1;33m\u001b[0m\u001b[0m\n\u001b[1;32m-> 1072\u001b[1;33m         \u001b[0mX\u001b[0m \u001b[1;33m=\u001b[0m \u001b[0mcheck_array\u001b[0m\u001b[1;33m(\u001b[0m\u001b[0mX\u001b[0m\u001b[1;33m,\u001b[0m \u001b[0mdtype\u001b[0m\u001b[1;33m=\u001b[0m\u001b[0mnp\u001b[0m\u001b[1;33m.\u001b[0m\u001b[0mint\u001b[0m\u001b[1;33m)\u001b[0m\u001b[1;33m\u001b[0m\u001b[0m\n\u001b[0m\u001b[0;32m   1073\u001b[0m         \u001b[1;32mif\u001b[0m \u001b[0mnp\u001b[0m\u001b[1;33m.\u001b[0m\u001b[0many\u001b[0m\u001b[1;33m(\u001b[0m\u001b[0mX\u001b[0m \u001b[1;33m<\u001b[0m \u001b[1;36m0\u001b[0m\u001b[1;33m)\u001b[0m\u001b[1;33m:\u001b[0m\u001b[1;33m\u001b[0m\u001b[0m\n\u001b[0;32m   1074\u001b[0m             \u001b[1;32mraise\u001b[0m \u001b[0mValueError\u001b[0m\u001b[1;33m(\u001b[0m\u001b[1;34m\"X needs to contain only non-negative integers.\"\u001b[0m\u001b[1;33m)\u001b[0m\u001b[1;33m\u001b[0m\u001b[0m\n",
      "\u001b[1;32mC:\\Users\\db161_000\\Anaconda3\\lib\\site-packages\\sklearn\\utils\\validation.py\u001b[0m in \u001b[0;36mcheck_array\u001b[1;34m(array, accept_sparse, dtype, order, copy, force_all_finite, ensure_2d, allow_nd, ensure_min_samples, ensure_min_features)\u001b[0m\n\u001b[0;32m    332\u001b[0m             \u001b[0mdtype\u001b[0m \u001b[1;33m=\u001b[0m \u001b[1;32mNone\u001b[0m\u001b[1;33m\u001b[0m\u001b[0m\n\u001b[0;32m    333\u001b[0m         array = _ensure_sparse_format(array, accept_sparse, dtype, order,\n\u001b[1;32m--> 334\u001b[1;33m                                       copy, force_all_finite)\n\u001b[0m\u001b[0;32m    335\u001b[0m     \u001b[1;32melse\u001b[0m\u001b[1;33m:\u001b[0m\u001b[1;33m\u001b[0m\u001b[0m\n\u001b[0;32m    336\u001b[0m         \u001b[1;32mif\u001b[0m \u001b[0mensure_2d\u001b[0m\u001b[1;33m:\u001b[0m\u001b[1;33m\u001b[0m\u001b[0m\n",
      "\u001b[1;32mC:\\Users\\db161_000\\Anaconda3\\lib\\site-packages\\sklearn\\utils\\validation.py\u001b[0m in \u001b[0;36m_ensure_sparse_format\u001b[1;34m(spmatrix, accept_sparse, dtype, order, copy, force_all_finite)\u001b[0m\n\u001b[0;32m    237\u001b[0m     \"\"\"\n\u001b[0;32m    238\u001b[0m     \u001b[1;32mif\u001b[0m \u001b[0maccept_sparse\u001b[0m \u001b[1;32mis\u001b[0m \u001b[1;32mNone\u001b[0m\u001b[1;33m:\u001b[0m\u001b[1;33m\u001b[0m\u001b[0m\n\u001b[1;32m--> 239\u001b[1;33m         raise TypeError('A sparse matrix was passed, but dense '\n\u001b[0m\u001b[0;32m    240\u001b[0m                         \u001b[1;34m'data is required. Use X.toarray() to '\u001b[0m\u001b[1;33m\u001b[0m\u001b[0m\n\u001b[0;32m    241\u001b[0m                         'convert to a dense numpy array.')\n",
      "\u001b[1;31mTypeError\u001b[0m: A sparse matrix was passed, but dense data is required. Use X.toarray() to convert to a dense numpy array."
     ]
    }
   ],
   "source": [
    "from sklearn.preprocessing import OneHotEncoder\n",
    "\n",
    "enc = OneHotEncoder()\n",
    "\n",
    "X = enc.fit_transform(X)\n",
    "\n",
    "# clf = sklearn.linear_model.LogisticRegression()"
   ]
  },
  {
   "cell_type": "code",
   "execution_count": null,
   "metadata": {
    "collapsed": true
   },
   "outputs": [],
   "source": [
    "def transform_date_feature(seq):\n",
    "    return pd.to_datetime(seq, format=\"%Y-%m-%d\")"
   ]
  },
  {
   "cell_type": "code",
   "execution_count": null,
   "metadata": {
    "collapsed": true
   },
   "outputs": [],
   "source": [
    "def make_feature_array(df):\n",
    "    \n",
    "    pass"
   ]
  },
  {
   "cell_type": "code",
   "execution_count": null,
   "metadata": {
    "collapsed": true
   },
   "outputs": [],
   "source": [
    "def make_target_vector(df):"
   ]
  },
  {
   "cell_type": "markdown",
   "metadata": {
    "collapsed": true
   },
   "source": [
    "Some features that we want:\n",
    "1. the time of year, to capture seasonal risk\n",
    "2. the absolute date, capture long-term trends"
   ]
  }
 ],
 "metadata": {
  "kernelspec": {
   "display_name": "Python 3",
   "language": "python",
   "name": "python3"
  },
  "language_info": {
   "codemirror_mode": {
    "name": "ipython",
    "version": 3
   },
   "file_extension": ".py",
   "mimetype": "text/x-python",
   "name": "python",
   "nbconvert_exporter": "python",
   "pygments_lexer": "ipython3",
   "version": "3.4.4"
  }
 },
 "nbformat": 4,
 "nbformat_minor": 0
}
