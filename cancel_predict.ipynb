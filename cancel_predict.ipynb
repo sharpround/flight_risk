{
 "cells": [
  {
   "cell_type": "code",
   "execution_count": 1,
   "metadata": {
    "collapsed": false
   },
   "outputs": [],
   "source": [
    "import pickle\n",
    "import numpy as np\n",
    "import pandas as pd\n",
    "\n",
    "from sklearn import cross_validation\n",
    "from cancel_predict import *"
   ]
  },
  {
   "cell_type": "code",
   "execution_count": 3,
   "metadata": {
    "collapsed": false
   },
   "outputs": [
    {
     "name": "stdout",
     "output_type": "stream",
     "text": [
      "X shape: (1009425, 3101)\n",
      "y shape: (1009425,)\n",
      "(706597, 3101)\n",
      "(302828, 3101)\n",
      "(706597,)\n",
      "(302828,)\n"
     ]
    }
   ],
   "source": [
    "df = pickle.load(open(\"ontime_sample_01.pickle\", 'rb'))\n",
    "transformer_dict = pickle.load(open(\"transformer_dict_01.pickle\", 'rb'))\n",
    "\n",
    "df = df.sort_values(by=\"OrdinalDate\")\n",
    "\n",
    "X, y, Xenc = vectorize_data(df)\n",
    "\n",
    "print(\"X shape: \" + str(X.shape))\n",
    "print(\"y shape: \" + str(y.shape))\n",
    "\n",
    "X_train, X_test, y_train, y_test = cross_validation.train_test_split(X, y, train_size=0.7)\n",
    "# X_train, X_test, y_train, y_test = contiguous_train_test_split(X, y, train_size=0.7)\n",
    "\n",
    "print(X_train.shape)\n",
    "print(X_test.shape)\n",
    "print(y_train.shape)\n",
    "print(y_test.shape)"
   ]
  },
  {
   "cell_type": "code",
   "execution_count": 4,
   "metadata": {
    "collapsed": false
   },
   "outputs": [
    {
     "name": "stdout",
     "output_type": "stream",
     "text": [
      "Training logistic regression classifier...\n",
      "[LibLinear]\n",
      "Test\n",
      "-----\n",
      "ROC AUC of classifier: 0.678880147687\n",
      "ROC AUC score of baseline: 0.5\n",
      "ROC AUC score of never: 0.5\n",
      "ROC AUC score of always: 0.5\n",
      "\n",
      "Train\n",
      "-----\n",
      "ROC AUC of classifier: 0.712189324403\n",
      "ROC AUC score of baseline: 0.5\n",
      "ROC AUC score of never: 0.5\n",
      "ROC AUC score of always: 0.5\n"
     ]
    }
   ],
   "source": [
    "print(\"Training logistic regression classifier...\")\n",
    "\n",
    "clf = linear_model.LogisticRegression(penalty='l2', verbose=True)\n",
    "clf.fit(X_train, y_train)\n",
    "\n",
    "print(\"\\nTest\")\n",
    "y_pred = clf.predict_proba(X_test)\n",
    "y_baseline = np.ones(y_test.shape) * (np.sum(y) / len(y))\n",
    "print_metrics(y_test, y_pred[:, 1], y_baseline)\n",
    "\n",
    "print(\"\\nTrain\")\n",
    "y_pred = clf.predict_proba(X_train)\n",
    "y_baseline = np.ones(y_train.shape) * (np.sum(y) / len(y))\n",
    "print_metrics(y_train, y_pred[:, 1], y_baseline)"
   ]
  },
  {
   "cell_type": "code",
   "execution_count": 10,
   "metadata": {
    "collapsed": false
   },
   "outputs": [
    {
     "name": "stdout",
     "output_type": "stream",
     "text": [
      "UniqueCarrier 0\n",
      "OriginAirportID 26\n",
      "OriginAirportSeqID 389\n",
      "OriginCityMarketID 1139\n",
      "OriginState 1476\n",
      "DestAirportID 1529\n",
      "DestAirportSeqID 1895\n",
      "DestCityMarketID 2653\n",
      "DepTimeBlk 2993\n",
      "ArrTimeBlk 3012\n",
      "DistanceGroup 3031\n",
      "DestState 3042\n"
     ]
    }
   ],
   "source": [
    "cat_vars = [\"UniqueCarrier\",\n",
    "            \"OriginAirportID\",\n",
    "            \"OriginAirportSeqID\",\n",
    "            \"OriginCityMarketID\",\n",
    "            \"OriginState\",\n",
    "            \"DestAirportID\",\n",
    "            \"DestAirportSeqID\",\n",
    "            \"DestCityMarketID\",\n",
    "            \"DepTimeBlk\",\n",
    "            \"ArrTimeBlk\",\n",
    "            \"DistanceGroup\",\n",
    "            \"DestState\"]\n",
    "\n",
    "feat_indices = Xenc.feature_indices_\n",
    "for ii, jj in zip(cat_vars, feat_indices):\n",
    "    print(ii, jj)"
   ]
  },
  {
   "cell_type": "code",
   "execution_count": 88,
   "metadata": {
    "collapsed": true
   },
   "outputs": [],
   "source": [
    "con_vars = [\"CRSElapsedTime\",\n",
    "            \"Distance\",\n",
    "            \"CRSDepTime\",\n",
    "            \"CRSArrTime\",\n",
    "            \"WeekDay\",\n",
    "            \"YearDay\"]"
   ]
  },
  {
   "cell_type": "code",
   "execution_count": 37,
   "metadata": {
    "collapsed": false
   },
   "outputs": [
    {
     "name": "stdout",
     "output_type": "stream",
     "text": [
      "0\n",
      "26\n",
      "389\n",
      "1139\n",
      "1476\n",
      "1529\n",
      "1895\n",
      "2653\n",
      "2993\n",
      "3012\n",
      "3031\n",
      "3042\n",
      "3095\n"
     ]
    }
   ],
   "source": [
    "for feat in feat_indices:\n",
    "    print(feat)"
   ]
  },
  {
   "cell_type": "code",
   "execution_count": null,
   "metadata": {
    "collapsed": true
   },
   "outputs": [],
   "source": [
    "transformer_dict = pickle.load(open(\"transformer_dict_01.pickle\", 'rb'))\n",
    "inv_transformer_dict = {}\n",
    "for key1 in transformer_dict.keys():\n",
    "    inv_transformer_dict[key1] = {}\n",
    "    for key2 in transformer_dict[key1].keys():\n",
    "        invkey = transformer_dict[key1][key2]\n",
    "        inv_transformer_dict[key1][invkey] = key2"
   ]
  },
  {
   "cell_type": "code",
   "execution_count": 96,
   "metadata": {
    "collapsed": false,
    "scrolled": false
   },
   "outputs": [
    {
     "name": "stdout",
     "output_type": "stream",
     "text": [
      "coef: -0.614481,\tvariable: DestCityMarketID,\tvalue: 35841\tfeature index: 2756,\tvalue: 103\n",
      "coef: -0.614481,\tvariable: DestAirportID,\tvalue: 15841\tfeature index: 1649,\tvalue: 120\n",
      "coef: -0.615194,\tvariable: OriginAirportSeqID,\tvalue: 1289604\tfeature index: 853,\tvalue: 464\n",
      "coef: -0.615638,\tvariable: DestAirportSeqID,\tvalue: 1013603\tfeature index: 2419,\tvalue: 524\n",
      "coef:  0.615739,\tvariable: DestAirportSeqID,\tvalue: 1448702\tfeature index: 2443,\tvalue: 548\n",
      "coef:  0.618398,\tvariable: OriginAirportSeqID,\tvalue: 1157701\tfeature index: 584,\tvalue: 195\n",
      "coef: -0.620278,\tvariable: DestAirportSeqID,\tvalue: 1014601\tfeature index: 2173,\tvalue: 278\n",
      "coef: -0.620281,\tvariable: OriginAirportSeqID,\tvalue: 1295101\tfeature index: 595,\tvalue: 206\n",
      "coef: -0.624136,\tvariable: OriginAirportSeqID,\tvalue: 1129804\tfeature index: 1114,\tvalue: 725\n",
      "coef: -0.624408,\tvariable: DestAirportSeqID,\tvalue: 1334204\tfeature index: 2310,\tvalue: 415\n",
      "coef:  0.633512,\tvariable: DestAirportSeqID,\tvalue: 1039702\tfeature index: 1907,\tvalue: 12\n",
      "coef:  0.639029,\tvariable: OriginAirportSeqID,\tvalue: 1409803\tfeature index: 835,\tvalue: 446\n",
      "coef:  0.639813,\tvariable: DestAirportSeqID,\tvalue: 1343301\tfeature index: 2066,\tvalue: 171\n",
      "coef:  0.640306,\tvariable: OriginAirportSeqID,\tvalue: 1387302\tfeature index: 992,\tvalue: 603\n",
      "coef: -0.642882,\tvariable: DestAirportSeqID,\tvalue: 1448701\tfeature index: 2153,\tvalue: 258\n",
      "coef: -0.644304,\tvariable: DestAirportSeqID,\tvalue: 1405702\tfeature index: 2285,\tvalue: 390\n",
      "coef:  0.644333,\tvariable: OriginAirportSeqID,\tvalue: 1343302\tfeature index: 909,\tvalue: 520\n",
      "coef: -0.646328,\tvariable: DestAirportSeqID,\tvalue: 1172102\tfeature index: 2399,\tvalue: 504\n",
      "coef: -0.650193,\tvariable: UniqueCarrier,\tvalue: CO\tfeature index: 7,\tvalue: 7\n",
      "coef: -0.650613,\tvariable: OriginAirportSeqID,\tvalue: 1100201\tfeature index: 676,\tvalue: 287\n",
      "coef:  0.650699,\tvariable: DestAirportSeqID,\tvalue: 1291502\tfeature index: 2152,\tvalue: 257\n",
      "coef: -0.651959,\tvariable: DestCityMarketID,\tvalue: 31401\tfeature index: 2778,\tvalue: 125\n",
      "coef: -0.651959,\tvariable: DestAirportID,\tvalue: 12819\tfeature index: 1673,\tvalue: 144\n",
      "coef:  0.652939,\tvariable: DestAirportSeqID,\tvalue: 1015803\tfeature index: 2186,\tvalue: 291\n",
      "coef:  0.656276,\tvariable: DestAirportSeqID,\tvalue: 1130802\tfeature index: 2439,\tvalue: 544\n",
      "coef:  0.658711,\tvariable: OriginAirportSeqID,\tvalue: 1410803\tfeature index: 877,\tvalue: 488\n",
      "coef: -0.659375,\tvariable: OriginAirportSeqID,\tvalue: 1247803\tfeature index: 1132,\tvalue: 743\n",
      "coef:  0.659429,\tvariable: DestAirportSeqID,\tvalue: 1289202\tfeature index: 2500,\tvalue: 605\n",
      "coef: -0.659443,\tvariable: DestAirportSeqID,\tvalue: 1027902\tfeature index: 2180,\tvalue: 285\n",
      "coef:  0.659932,\tvariable: OriginAirportSeqID,\tvalue: 1295102\tfeature index: 953,\tvalue: 564\n",
      "coef:  0.660992,\tvariable: OriginAirportSeqID,\tvalue: 1039702\tfeature index: 423,\tvalue: 34\n",
      "coef: -0.662945,\tvariable: OriginAirportSeqID,\tvalue: 1234302\tfeature index: 1029,\tvalue: 640\n",
      "coef:  0.664784,\tvariable: OriginAirportSeqID,\tvalue: 1163804\tfeature index: 1041,\tvalue: 652\n",
      "coef:  0.665346,\tvariable: OriginCityMarketID,\tvalue: 31997\tfeature index: 1318,\tvalue: 179\n",
      "coef:  0.665346,\tvariable: OriginAirportID,\tvalue: 11997\tfeature index: 225,\tvalue: 199\n",
      "coef:  0.668949,\tvariable: OriginAirportID,\tvalue: 10165\tfeature index: 308,\tvalue: 282\n",
      "coef:  0.668949,\tvariable: OriginCityMarketID,\tvalue: 30165\tfeature index: 1397,\tvalue: 258\n",
      "coef:  0.670871,\tvariable: DestAirportSeqID,\tvalue: 1152501\tfeature index: 2169,\tvalue: 274\n",
      "coef: -0.671930,\tvariable: OriginAirportSeqID,\tvalue: 1409802\tfeature index: 663,\tvalue: 274\n",
      "coef: -0.676485,\tvariable: DestAirportSeqID,\tvalue: 1538901\tfeature index: 2142,\tvalue: 247\n",
      "coef:  0.680830,\tvariable: OriginAirportSeqID,\tvalue: 1281902\tfeature index: 910,\tvalue: 521\n",
      "coef:  0.684153,\tvariable: OriginState,\tvalue: AK\tfeature index: 1504,\tvalue: 28\n",
      "coef: -0.685005,\tvariable: DestAirportSeqID,\tvalue: 1099001\tfeature index: 2162,\tvalue: 267\n",
      "coef: -0.686296,\tvariable: DestAirportSeqID,\tvalue: 1474703\tfeature index: 2273,\tvalue: 378\n",
      "coef:  0.686902,\tvariable: DestAirportSeqID,\tvalue: 1161706\tfeature index: 2587,\tvalue: 692\n",
      "coef: -0.690386,\tvariable: OriginAirportSeqID,\tvalue: 1163803\tfeature index: 861,\tvalue: 472\n",
      "coef: -0.697850,\tvariable: OriginAirportSeqID,\tvalue: 1474703\tfeature index: 789,\tvalue: 400\n",
      "coef:  0.704368,\tvariable: OriginAirportSeqID,\tvalue: 1115001\tfeature index: 631,\tvalue: 242\n",
      "coef:  0.705178,\tvariable: DestAirportSeqID,\tvalue: 1504101\tfeature index: 2175,\tvalue: 280\n",
      "coef:  0.715498,\tvariable: OriginAirportSeqID,\tvalue: 1234301\tfeature index: 714,\tvalue: 325\n",
      "coef:  0.718854,\tvariable: OriginAirportSeqID,\tvalue: 1209402\tfeature index: 919,\tvalue: 530\n",
      "coef:  0.719475,\tvariable: OriginAirportSeqID,\tvalue: 1244805\tfeature index: 1067,\tvalue: 678\n",
      "coef:  0.720356,\tvariable: DestAirportSeqID,\tvalue: 1026802\tfeature index: 2560,\tvalue: 665\n",
      "coef:  0.725736,\tvariable: DestAirportSeqID,\tvalue: 1169502\tfeature index: 2481,\tvalue: 586\n",
      "coef: -0.733600,\tvariable: DestAirportSeqID,\tvalue: 1163803\tfeature index: 2394,\tvalue: 499\n",
      "coef:  0.734040,\tvariable: OriginAirportSeqID,\tvalue: 1396403\tfeature index: 1003,\tvalue: 614\n",
      "coef:  0.735149,\tvariable: DestAirportID,\tvalue: 11092\tfeature index: 1884,\tvalue: 355\n",
      "coef:  0.735149,\tvariable: DestCityMarketID,\tvalue: 31092\tfeature index: 2982,\tvalue: 329\n",
      "coef:  0.735149,\tvariable: DestAirportSeqID,\tvalue: 1109202\tfeature index: 2616,\tvalue: 721\n",
      "coef:  0.736627,\tvariable: DestAirportSeqID,\tvalue: 1037203\tfeature index: 2536,\tvalue: 641\n",
      "coef: -0.744456,\tvariable: DestState,\tvalue: HI\tfeature index: 3079,\tvalue: 37\n",
      "coef: -0.748185,\tvariable: OriginAirportSeqID,\tvalue: 1240202\tfeature index: 571,\tvalue: 182\n",
      "coef:  0.767141,\tvariable: OriginAirportSeqID,\tvalue: 1169502\tfeature index: 937,\tvalue: 548\n",
      "coef:  0.768512,\tvariable: OriginAirportSeqID,\tvalue: 1015703\tfeature index: 1014,\tvalue: 625\n",
      "coef:  0.771976,\tvariable: DestAirportSeqID,\tvalue: 1115003\tfeature index: 2586,\tvalue: 691\n",
      "coef: -0.775826,\tvariable: OriginAirportSeqID,\tvalue: 1410802\tfeature index: 727,\tvalue: 338\n",
      "coef:  0.783109,\tvariable: DestAirportSeqID,\tvalue: 1114003\tfeature index: 2621,\tvalue: 726\n",
      "coef:  0.783218,\tvariable: OriginAirportSeqID,\tvalue: 1288403\tfeature index: 969,\tvalue: 580\n",
      "coef:  0.788157,\tvariable: OriginAirportSeqID,\tvalue: 1469604\tfeature index: 876,\tvalue: 487\n",
      "coef:  0.799861,\tvariable: OriginAirportSeqID,\tvalue: 1107602\tfeature index: 916,\tvalue: 527\n",
      "coef:  0.804475,\tvariable: OriginAirportSeqID,\tvalue: 1289605\tfeature index: 1022,\tvalue: 633\n",
      "coef:  0.804587,\tvariable: DestAirportSeqID,\tvalue: 1052903\tfeature index: 2253,\tvalue: 358\n",
      "coef: -0.806786,\tvariable: DestAirportSeqID,\tvalue: 1349502\tfeature index: 2264,\tvalue: 369\n",
      "coef: -0.808287,\tvariable: UniqueCarrier,\tvalue: TZ\tfeature index: 18,\tvalue: 18\n",
      "coef: -0.810258,\tvariable: DestAirportSeqID,\tvalue: 1541101\tfeature index: 2116,\tvalue: 221\n",
      "coef:  0.812955,\tvariable: DestAirportSeqID,\tvalue: 1099002\tfeature index: 2450,\tvalue: 555\n",
      "coef: -0.813790,\tvariable: OriginAirportSeqID,\tvalue: 1288402\tfeature index: 733,\tvalue: 344\n",
      "coef:  0.817297,\tvariable: OriginAirportSeqID,\tvalue: 1016501\tfeature index: 684,\tvalue: 295\n",
      "coef: -0.821310,\tvariable: Distance,\tvalue: cont\tfeature index: 3096,\tvalue: N/A\n",
      "coef: -0.827415,\tvariable: DestAirportSeqID,\tvalue: 1037202\tfeature index: 2423,\tvalue: 528\n",
      "coef:  0.849458,\tvariable: OriginAirportSeqID,\tvalue: 1114004\tfeature index: 1103,\tvalue: 714\n",
      "coef: -0.875408,\tvariable: DestAirportSeqID,\tvalue: 1059903\tfeature index: 2228,\tvalue: 333\n",
      "coef:  0.888994,\tvariable: DestCityMarketID,\tvalue: 31445\tfeature index: 2798,\tvalue: 145\n",
      "coef:  0.888994,\tvariable: DestAirportID,\tvalue: 11445\tfeature index: 1694,\tvalue: 165\n",
      "coef:  0.888994,\tvariable: DestAirportSeqID,\tvalue: 1144501\tfeature index: 2060,\tvalue: 165\n",
      "coef: -0.889707,\tvariable: UniqueCarrier,\tvalue: VX\tfeature index: 24,\tvalue: 24\n",
      "coef: -0.898502,\tvariable: DestAirportSeqID,\tvalue: 1432103\tfeature index: 2544,\tvalue: 649\n",
      "coef: -0.918646,\tvariable: DestAirportSeqID,\tvalue: 1169704\tfeature index: 2627,\tvalue: 732\n",
      "coef:  0.920207,\tvariable: OriginAirportSeqID,\tvalue: 1334701\tfeature index: 678,\tvalue: 289\n",
      "coef:  0.920207,\tvariable: OriginCityMarketID,\tvalue: 33347\tfeature index: 1392,\tvalue: 253\n",
      "coef:  0.920207,\tvariable: OriginAirportID,\tvalue: 13347\tfeature index: 302,\tvalue: 276\n",
      "coef:  0.936165,\tvariable: OriginAirportSeqID,\tvalue: 1294501\tfeature index: 510,\tvalue: 121\n",
      "coef: -0.939025,\tvariable: OriginAirportSeqID,\tvalue: 1169704\tfeature index: 1116,\tvalue: 727\n",
      "coef: -0.944509,\tvariable: DestAirportSeqID,\tvalue: 1039704\tfeature index: 2262,\tvalue: 367\n",
      "coef: -0.965624,\tvariable: OriginAirportSeqID,\tvalue: 1039704\tfeature index: 745,\tvalue: 356\n",
      "coef:  0.975737,\tvariable: OriginAirportSeqID,\tvalue: 1379602\tfeature index: 1075,\tvalue: 686\n",
      "coef:  1.043600,\tvariable: DestAirportSeqID,\tvalue: 1541103\tfeature index: 2554,\tvalue: 659\n",
      "coef:  1.061980,\tvariable: OriginAirportSeqID,\tvalue: 1199701\tfeature index: 590,\tvalue: 201\n",
      "coef: -1.098134,\tvariable: UniqueCarrier,\tvalue: F9\tfeature index: 21,\tvalue: 21\n",
      "coef: -1.293429,\tvariable: UniqueCarrier,\tvalue: HA\tfeature index: 19,\tvalue: 19\n"
     ]
    }
   ],
   "source": [
    "ranked_features = np.abs(clf.coef_).argsort()\n",
    "for feat_i in ranked_features[0, -100:]:\n",
    "    ii = 0\n",
    "    coef_val = clf.coef_[0, feat_i]\n",
    "    \n",
    "    try:\n",
    "        while feat_i > feat_indices[ii]:\n",
    "            ii += 1\n",
    "        ii -= 1\n",
    "        var_val = cat_vars[ii]\n",
    "        code_val = feat_i - feat_indices[ii]\n",
    "        feat_val = inv_transformer_dict[cat_vars[ii]][code_val]\n",
    "    \n",
    "    except IndexError:\n",
    "        code_val = feat_i - 3095\n",
    "        var_val = con_vars[feat_i - 3095]\n",
    "        code_val = \"N/A\"\n",
    "        feat_val = \"cont\"\n",
    "\n",
    "    print(\"coef: {0: 4f},\\tvariable: {1},\\tvalue: {4}\\tfeature index: {2},\\tvalue: {3}\".format(coef_val, \n",
    "                                                                                    var_val, \n",
    "                                                                                    feat_i, \n",
    "                                                                                    code_val,\n",
    "                                                                                    feat_val))"
   ]
  },
  {
   "cell_type": "code",
   "execution_count": 107,
   "metadata": {
    "collapsed": false
   },
   "outputs": [
    {
     "name": "stdout",
     "output_type": "stream",
     "text": [
      "coef: -0.497023,  variable: DestAirportSeqID,\tvariable value: 1086803\tfeature index: 2361,\tcode value: 466\n",
      "coef: -0.499745,  variable: OriginAirportSeqID,\tvariable value: 1482801\tfeature index: 539,\tcode value: 150\n",
      "coef: -0.501617,  variable: DestCityMarketID,\tvariable value: 31041\tfeature index: 2890,\tcode value: 237\n",
      "coef: -0.501617,  variable: DestAirportID,\tvariable value: 11041\tfeature index: 1790,\tcode value: 261\n",
      "coef: -0.504071,  variable: OriginAirportSeqID,\tvariable value: 1055102\tfeature index: 977,\tcode value: 588\n",
      "coef: -0.504096,  variable: OriginAirportSeqID,\tvariable value: 1078502\tfeature index: 942,\tcode value: 553\n",
      "coef: -0.504237,  variable: DestAirportSeqID,\tvariable value: 1532302\tfeature index: 2460,\tcode value: 565\n",
      "coef: -0.504318,  variable: DestAirportSeqID,\tvariable value: 1295101\tfeature index: 2109,\tcode value: 214\n",
      "coef: -0.504732,  variable: DistanceGroup,\tvariable value: 1\tfeature index: 3034,\tcode value: 3\n",
      "coef: -0.505373,  variable: OriginAirportSeqID,\tvariable value: 1336002\tfeature index: 428,\tcode value: 39\n",
      "coef: -0.507864,  variable: OriginCityMarketID,\tvariable value: 33795\tfeature index: 1417,\tcode value: 278\n",
      "coef: -0.507864,  variable: OriginAirportID,\tvariable value: 13795\tfeature index: 328,\tcode value: 302\n",
      "coef: -0.511572,  variable: DestAirportSeqID,\tvariable value: 1468901\tfeature index: 1963,\tcode value: 68\n",
      "coef: -0.512424,  variable: OriginAirportSeqID,\tvariable value: 1524903\tfeature index: 1069,\tcode value: 680\n",
      "coef: -0.516786,  variable: DestAirportSeqID,\tvariable value: 1343302\tfeature index: 2422,\tcode value: 527\n",
      "coef: -0.520261,  variable: DestAirportSeqID,\tvariable value: 1164101\tfeature index: 2040,\tcode value: 145\n",
      "coef: -0.520343,  variable: UniqueCarrier,\tvariable value: FL\tfeature index: 15,\tcode value: 15\n",
      "coef: -0.522610,  variable: OriginAirportSeqID,\tvariable value: 1059903\tfeature index: 724,\tcode value: 335\n",
      "coef: -0.522724,  variable: DestAirportSeqID,\tvariable value: 1015804\tfeature index: 2518,\tcode value: 623\n",
      "coef: -0.526146,  variable: OriginAirportSeqID,\tvariable value: 1071302\tfeature index: 778,\tcode value: 389\n",
      "coef: -0.526780,  variable: OriginState,\tvariable value: UT\tfeature index: 1499,\tcode value: 23\n",
      "coef: -0.528465,  variable: DestAirportID,\tvariable value: 15070\tfeature index: 1682,\tcode value: 153\n",
      "coef: -0.528763,  variable: OriginAirportSeqID,\tvariable value: 1164102\tfeature index: 774,\tcode value: 385\n",
      "coef: -0.531063,  variable: OriginAirportSeqID,\tvariable value: 1495202\tfeature index: 694,\tcode value: 305\n",
      "coef: -0.534219,  variable: DestAirportSeqID,\tvariable value: 1098001\tfeature index: 2082,\tcode value: 187\n",
      "coef: -0.538101,  variable: OriginAirportSeqID,\tvariable value: 1107601\tfeature index: 718,\tcode value: 329\n",
      "coef: -0.538875,  variable: DestAirportSeqID,\tvariable value: 1252301\tfeature index: 2054,\tcode value: 159\n",
      "coef: -0.542530,  variable: DestAirportSeqID,\tvariable value: 1348601\tfeature index: 2074,\tcode value: 179\n",
      "coef: -0.542731,  variable: OriginAirportSeqID,\tvariable value: 1106602\tfeature index: 776,\tcode value: 387\n",
      "coef: -0.542800,  variable: DestAirportSeqID,\tvariable value: 1217302\tfeature index: 2606,\tcode value: 711\n",
      "coef: -0.543329,  variable: OriginAirportID,\tvariable value: 11481\tfeature index: 349,\tcode value: 323\n",
      "coef: -0.543822,  variable: DestAirportSeqID,\tvariable value: 1078502\tfeature index: 2416,\tcode value: 521\n",
      "coef: -0.550768,  variable: DestAirportSeqID,\tvariable value: 1496002\tfeature index: 2546,\tcode value: 651\n",
      "coef: -0.552251,  variable: OriginAirportID,\tvariable value: 14794\tfeature index: 282,\tcode value: 256\n",
      "coef: -0.552251,  variable: OriginCityMarketID,\tvariable value: 34794\tfeature index: 1375,\tcode value: 236\n",
      "coef: -0.553467,  variable: OriginAirportSeqID,\tvariable value: 1153701\tfeature index: 558,\tcode value: 169\n",
      "coef: -0.555332,  variable: OriginAirportSeqID,\tvariable value: 1227803\tfeature index: 1119,\tcode value: 730\n",
      "coef: -0.558137,  variable: DestAirportSeqID,\tvariable value: 1412202\tfeature index: 2300,\tcode value: 405\n",
      "coef: -0.559069,  variable: OriginAirportSeqID,\tvariable value: 1163002\tfeature index: 905,\tcode value: 516\n",
      "coef: -0.567932,  variable: OriginAirportSeqID,\tvariable value: 1425202\tfeature index: 957,\tcode value: 568\n",
      "coef: -0.580610,  variable: OriginAirportSeqID,\tvariable value: 1383002\tfeature index: 826,\tcode value: 437\n",
      "coef: -0.582828,  variable: DestAirportSeqID,\tvariable value: 1484303\tfeature index: 2379,\tcode value: 484\n",
      "coef: -0.582934,  variable: OriginAirportSeqID,\tvariable value: 1104901\tfeature index: 596,\tcode value: 207\n",
      "coef: -0.588129,  variable: OriginAirportSeqID,\tvariable value: 1468302\tfeature index: 794,\tcode value: 405\n",
      "coef: -0.588580,  variable: OriginAirportSeqID,\tvariable value: 1072802\tfeature index: 611,\tcode value: 222\n",
      "coef: -0.590536,  variable: DestAirportSeqID,\tvariable value: 1114004\tfeature index: 2601,\tcode value: 706\n",
      "coef: -0.591528,  variable: DestAirportSeqID,\tvariable value: 1484202\tfeature index: 2530,\tcode value: 635\n",
      "coef: -0.594309,  variable: OriginCityMarketID,\tvariable value: 34905\tfeature index: 1386,\tcode value: 247\n",
      "coef: -0.594309,  variable: OriginAirportID,\tvariable value: 14905\tfeature index: 295,\tcode value: 269\n",
      "coef: -0.595178,  variable: DestAirportSeqID,\tvariable value: 1410803\tfeature index: 2338,\tcode value: 443\n",
      "coef: -0.596076,  variable: OriginAirportID,\tvariable value: 13360\tfeature index: 65,\tcode value: 39\n",
      "coef: -0.596076,  variable: OriginCityMarketID,\tvariable value: 33360\tfeature index: 1173,\tcode value: 34\n",
      "coef: -0.597213,  variable: DestAirportSeqID,\tvariable value: 1298202\tfeature index: 2335,\tcode value: 440\n",
      "coef: -0.601791,  variable: OriginAirportSeqID,\tvariable value: 1252303\tfeature index: 1096,\tcode value: 707\n",
      "coef: -0.602422,  variable: DestAirportSeqID,\tvariable value: 1043102\tfeature index: 2336,\tcode value: 441\n",
      "coef: -0.606278,  variable: OriginAirportSeqID,\tvariable value: 1114002\tfeature index: 846,\tcode value: 457\n",
      "coef: -0.611221,  variable: DestAirportSeqID,\tvariable value: 1015501\tfeature index: 2099,\tcode value: 204\n",
      "coef: -0.614481,  variable: DestCityMarketID,\tvariable value: 35841\tfeature index: 2756,\tcode value: 103\n",
      "coef: -0.614481,  variable: DestAirportID,\tvariable value: 15841\tfeature index: 1649,\tcode value: 120\n",
      "coef: -0.615194,  variable: OriginAirportSeqID,\tvariable value: 1289604\tfeature index: 853,\tcode value: 464\n",
      "coef: -0.615638,  variable: DestAirportSeqID,\tvariable value: 1013603\tfeature index: 2419,\tcode value: 524\n",
      "coef: -0.620278,  variable: DestAirportSeqID,\tvariable value: 1014601\tfeature index: 2173,\tcode value: 278\n",
      "coef: -0.620281,  variable: OriginAirportSeqID,\tvariable value: 1295101\tfeature index: 595,\tcode value: 206\n",
      "coef: -0.624136,  variable: OriginAirportSeqID,\tvariable value: 1129804\tfeature index: 1114,\tcode value: 725\n",
      "coef: -0.624408,  variable: DestAirportSeqID,\tvariable value: 1334204\tfeature index: 2310,\tcode value: 415\n",
      "coef: -0.642882,  variable: DestAirportSeqID,\tvariable value: 1448701\tfeature index: 2153,\tcode value: 258\n",
      "coef: -0.644304,  variable: DestAirportSeqID,\tvariable value: 1405702\tfeature index: 2285,\tcode value: 390\n",
      "coef: -0.646328,  variable: DestAirportSeqID,\tvariable value: 1172102\tfeature index: 2399,\tcode value: 504\n",
      "coef: -0.650193,  variable: UniqueCarrier,\tvariable value: CO\tfeature index: 7,\tcode value: 7\n",
      "coef: -0.650613,  variable: OriginAirportSeqID,\tvariable value: 1100201\tfeature index: 676,\tcode value: 287\n",
      "coef: -0.651959,  variable: DestAirportID,\tvariable value: 12819\tfeature index: 1673,\tcode value: 144\n",
      "coef: -0.651959,  variable: DestCityMarketID,\tvariable value: 31401\tfeature index: 2778,\tcode value: 125\n",
      "coef: -0.659375,  variable: OriginAirportSeqID,\tvariable value: 1247803\tfeature index: 1132,\tcode value: 743\n",
      "coef: -0.659443,  variable: DestAirportSeqID,\tvariable value: 1027902\tfeature index: 2180,\tcode value: 285\n",
      "coef: -0.662945,  variable: OriginAirportSeqID,\tvariable value: 1234302\tfeature index: 1029,\tcode value: 640\n",
      "coef: -0.671930,  variable: OriginAirportSeqID,\tvariable value: 1409802\tfeature index: 663,\tcode value: 274\n",
      "coef: -0.676485,  variable: DestAirportSeqID,\tvariable value: 1538901\tfeature index: 2142,\tcode value: 247\n",
      "coef: -0.685005,  variable: DestAirportSeqID,\tvariable value: 1099001\tfeature index: 2162,\tcode value: 267\n",
      "coef: -0.686296,  variable: DestAirportSeqID,\tvariable value: 1474703\tfeature index: 2273,\tcode value: 378\n",
      "coef: -0.690386,  variable: OriginAirportSeqID,\tvariable value: 1163803\tfeature index: 861,\tcode value: 472\n",
      "coef: -0.697850,  variable: OriginAirportSeqID,\tvariable value: 1474703\tfeature index: 789,\tcode value: 400\n",
      "coef: -0.733600,  variable: DestAirportSeqID,\tvariable value: 1163803\tfeature index: 2394,\tcode value: 499\n",
      "coef: -0.744456,  variable: DestState,\tvariable value: HI\tfeature index: 3079,\tcode value: 37\n",
      "coef: -0.748185,  variable: OriginAirportSeqID,\tvariable value: 1240202\tfeature index: 571,\tcode value: 182\n",
      "coef: -0.775826,  variable: OriginAirportSeqID,\tvariable value: 1410802\tfeature index: 727,\tcode value: 338\n",
      "coef: -0.806786,  variable: DestAirportSeqID,\tvariable value: 1349502\tfeature index: 2264,\tcode value: 369\n",
      "coef: -0.808287,  variable: UniqueCarrier,\tvariable value: TZ\tfeature index: 18,\tcode value: 18\n",
      "coef: -0.810258,  variable: DestAirportSeqID,\tvariable value: 1541101\tfeature index: 2116,\tcode value: 221\n",
      "coef: -0.813790,  variable: OriginAirportSeqID,\tvariable value: 1288402\tfeature index: 733,\tcode value: 344\n",
      "coef: -0.821310,  variable: Distance,\tvariable value: cont\tfeature index: 3096,\tcode value: N/A\n",
      "coef: -0.827415,  variable: DestAirportSeqID,\tvariable value: 1037202\tfeature index: 2423,\tcode value: 528\n",
      "coef: -0.875408,  variable: DestAirportSeqID,\tvariable value: 1059903\tfeature index: 2228,\tcode value: 333\n",
      "coef: -0.889707,  variable: UniqueCarrier,\tvariable value: VX\tfeature index: 24,\tcode value: 24\n",
      "coef: -0.898502,  variable: DestAirportSeqID,\tvariable value: 1432103\tfeature index: 2544,\tcode value: 649\n",
      "coef: -0.918646,  variable: DestAirportSeqID,\tvariable value: 1169704\tfeature index: 2627,\tcode value: 732\n",
      "coef: -0.939025,  variable: OriginAirportSeqID,\tvariable value: 1169704\tfeature index: 1116,\tcode value: 727\n",
      "coef: -0.944509,  variable: DestAirportSeqID,\tvariable value: 1039704\tfeature index: 2262,\tcode value: 367\n",
      "coef: -0.965624,  variable: OriginAirportSeqID,\tvariable value: 1039704\tfeature index: 745,\tcode value: 356\n",
      "coef: -1.098134,  variable: UniqueCarrier,\tvariable value: F9\tfeature index: 21,\tcode value: 21\n",
      "coef: -1.293429,  variable: UniqueCarrier,\tvariable value: HA\tfeature index: 19,\tcode value: 19\n"
     ]
    }
   ],
   "source": [
    "ranked_features = (-clf.coef_).argsort()\n",
    "for feat_i in ranked_features[0, -100:]:\n",
    "    ii = 0\n",
    "    coef_val = clf.coef_[0, feat_i]\n",
    "    \n",
    "    try:\n",
    "        while feat_i > feat_indices[ii]:\n",
    "            ii += 1\n",
    "        ii -= 1\n",
    "        var_val = cat_vars[ii]\n",
    "        code_val = feat_i - feat_indices[ii]\n",
    "        feat_val = inv_transformer_dict[cat_vars[ii]][code_val]\n",
    "    \n",
    "    except IndexError:\n",
    "        code_val = feat_i - 3095\n",
    "        var_val = con_vars[feat_i - 3095]\n",
    "        code_val = \"N/A\"\n",
    "        feat_val = \"cont\"\n",
    "\n",
    "    print(\"coef: {0: 4f},  variable: {1},\\tvariable value: {4:}\\tfeature index: {2},\\tcode value: {3}\".format(coef_val, \n",
    "                                                                                    var_val, \n",
    "                                                                                    feat_i, \n",
    "                                                                                    code_val,\n",
    "                                                                                    feat_val))"
   ]
  },
  {
   "cell_type": "code",
   "execution_count": 104,
   "metadata": {
    "collapsed": false,
    "scrolled": true
   },
   "outputs": [
    {
     "ename": "ValueError",
     "evalue": "Sign not allowed in string format specifier",
     "output_type": "error",
     "traceback": [
      "\u001b[1;31m---------------------------------------------------------------------------\u001b[0m",
      "\u001b[1;31mValueError\u001b[0m                                Traceback (most recent call last)",
      "\u001b[1;32m<ipython-input-104-ada6db37e23b>\u001b[0m in \u001b[0;36m<module>\u001b[1;34m()\u001b[0m\n\u001b[0;32m     22\u001b[0m                                                                                     \u001b[0mfeat_i\u001b[0m\u001b[1;33m,\u001b[0m\u001b[1;33m\u001b[0m\u001b[0m\n\u001b[0;32m     23\u001b[0m                                                                                     \u001b[0mcode_val\u001b[0m\u001b[1;33m,\u001b[0m\u001b[1;33m\u001b[0m\u001b[0m\n\u001b[1;32m---> 24\u001b[1;33m                                                                                     feat_val))\n\u001b[0m",
      "\u001b[1;31mValueError\u001b[0m: Sign not allowed in string format specifier"
     ]
    }
   ],
   "source": [
    "ranked_features = clf.coef_.argsort()\n",
    "for feat_i in ranked_features[0, -100:]:\n",
    "    ii = 0\n",
    "    coef_val = clf.coef_[0, feat_i]\n",
    "    \n",
    "    try:\n",
    "        while feat_i > feat_indices[ii]:\n",
    "            ii += 1\n",
    "        ii -= 1\n",
    "        var_val = cat_vars[ii]\n",
    "        code_val = feat_i - feat_indices[ii]\n",
    "        feat_val = inv_transformer_dict[cat_vars[ii]][code_val]\n",
    "    \n",
    "    except IndexError:\n",
    "        code_val = feat_i - 3095\n",
    "        var_val = con_vars[feat_i - 3095]\n",
    "        code_val = \"N/A\"\n",
    "        feat_val = \"cont\"\n",
    "\n",
    "    print(\"coef: {0: 4f},\\tvariable: {1},\\tvalue: {4}\\tfeature index: {2},\\tvalue: {3}\".format(coef_val, \n",
    "                                                                                    var_val, \n",
    "                                                                                    feat_i, \n",
    "                                                                                    code_val,\n",
    "                                                                                    feat_val))"
   ]
  },
  {
   "cell_type": "code",
   "execution_count": null,
   "metadata": {
    "collapsed": true
   },
   "outputs": [],
   "source": [
    "# print(\"Training random forest classifier....\")\n",
    "\n",
    "clf = ensemble.RandomForestClassifier(verbose=True, n_jobs=2, max_depth=)\n",
    "clf.fit(X_train, y_train)\n",
    "\n",
    "print(\"\\nTest\")\n",
    "y_pred = clf.predict_proba(X_test)\n",
    "y_baseline = np.ones(y_test.shape) * (np.sum(y) / len(y))\n",
    "print_metrics(y_test, y_pred[:, 1], y_baseline)\n",
    "\n",
    "print(\"\\nTrain\")\n",
    "y_pred = clf.predict_proba(X_train)\n",
    "y_baseline = np.ones(y_train.shape) * (np.sum(y) / len(y))\n",
    "print_metrics(y_train, y_pred[:, 1], y_baseline)\n",
    "\n",
    "\n",
    "print(\"program complete\")"
   ]
  }
 ],
 "metadata": {
  "kernelspec": {
   "display_name": "Python 3",
   "language": "python",
   "name": "python3"
  },
  "language_info": {
   "codemirror_mode": {
    "name": "ipython",
    "version": 3
   },
   "file_extension": ".py",
   "mimetype": "text/x-python",
   "name": "python",
   "nbconvert_exporter": "python",
   "pygments_lexer": "ipython3",
   "version": "3.4.4"
  }
 },
 "nbformat": 4,
 "nbformat_minor": 0
}
