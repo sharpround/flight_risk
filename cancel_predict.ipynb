{
 "cells": [
  {
   "cell_type": "code",
   "execution_count": 2,
   "metadata": {
    "collapsed": true
   },
   "outputs": [],
   "source": [
    "import pandas as pd\n",
    "import numpy as np"
   ]
  },
  {
   "cell_type": "code",
   "execution_count": 74,
   "metadata": {
    "collapsed": false
   },
   "outputs": [
    {
     "name": "stderr",
     "output_type": "stream",
     "text": [
      "C:\\Users\\db161_000\\Anaconda3\\lib\\site-packages\\IPython\\core\\interactiveshell.py:2902: DtypeWarning: Columns (48) have mixed types. Specify dtype option on import or set low_memory=False.\n",
      "  interactivity=interactivity, compiler=compiler, result=result)\n"
     ]
    }
   ],
   "source": [
    "filename = 'on_time/On_Time_On_Time_Performance_2015_9.csv'\n",
    "\n",
    "usecols = [\"FlightDate\",\n",
    "           \"UniqueCarrier\",\n",
    "           \"OriginAirportID\",\n",
    "           \"OriginAirportSeqID\",\n",
    "           \"OriginCityMarketID\",\n",
    "           \"OriginState\",\n",
    "           \"DestAirportID\",\n",
    "           \"DestAirportSeqID\",\n",
    "           \"DestCityMarketID\",\n",
    "           \"DestState\",\n",
    "           \"CRSDepTime\",\n",
    "           \"DepTimeBlk\",\n",
    "           \"CRSArrTime\",\n",
    "           \"ArrTimeBlk\",\n",
    "           \"CRSElapsedTime\",\n",
    "           \"Distance\",\n",
    "           \"DistanceGroup\",\n",
    "           \"Cancelled\",\n",
    "           \"CancellationCode\"]\n",
    "\n",
    "df = pd.read_csv(filename,\n",
    "                usecols=usecols)\n",
    "\n",
    "df[\"CancellationCode\"].fillna(\"NA\", inplace=True)"
   ]
  },
  {
   "cell_type": "code",
   "execution_count": 4,
   "metadata": {
    "collapsed": false
   },
   "outputs": [
    {
     "name": "stdout",
     "output_type": "stream",
     "text": [
      "0 NA\n",
      "1 A\n",
      "2 C\n",
      "3 B\n"
     ]
    }
   ],
   "source": [
    "for i, value in enumerate(df[\"CancellationCode\"].unique()):\n",
    "    print(i, value)"
   ]
  },
  {
   "cell_type": "code",
   "execution_count": 9,
   "metadata": {
    "collapsed": false
   },
   "outputs": [
    {
     "data": {
      "text/html": [
       "<div>\n",
       "<table border=\"1\" class=\"dataframe\">\n",
       "  <thead>\n",
       "    <tr style=\"text-align: right;\">\n",
       "      <th></th>\n",
       "      <th>FlightDate</th>\n",
       "      <th>UniqueCarrier</th>\n",
       "      <th>OriginAirportID</th>\n",
       "      <th>OriginAirportSeqID</th>\n",
       "      <th>OriginCityMarketID</th>\n",
       "      <th>OriginState</th>\n",
       "      <th>DestAirportID</th>\n",
       "      <th>DestAirportSeqID</th>\n",
       "      <th>DestCityMarketID</th>\n",
       "      <th>DestState</th>\n",
       "      <th>CRSDepTime</th>\n",
       "      <th>DepTimeBlk</th>\n",
       "      <th>CRSArrTime</th>\n",
       "      <th>ArrTimeBlk</th>\n",
       "      <th>Cancelled</th>\n",
       "      <th>CancellationCode</th>\n",
       "      <th>CRSElapsedTime</th>\n",
       "      <th>Distance</th>\n",
       "      <th>DistanceGroup</th>\n",
       "    </tr>\n",
       "  </thead>\n",
       "  <tbody>\n",
       "    <tr>\n",
       "      <th>0</th>\n",
       "      <td>2015-09-01</td>\n",
       "      <td>0</td>\n",
       "      <td>0</td>\n",
       "      <td>0</td>\n",
       "      <td>0</td>\n",
       "      <td>0</td>\n",
       "      <td>0</td>\n",
       "      <td>0</td>\n",
       "      <td>0</td>\n",
       "      <td>0</td>\n",
       "      <td>900</td>\n",
       "      <td>0</td>\n",
       "      <td>1213</td>\n",
       "      <td>0</td>\n",
       "      <td>0</td>\n",
       "      <td>0</td>\n",
       "      <td>373</td>\n",
       "      <td>2475</td>\n",
       "      <td>0</td>\n",
       "    </tr>\n",
       "    <tr>\n",
       "      <th>1</th>\n",
       "      <td>2015-09-02</td>\n",
       "      <td>0</td>\n",
       "      <td>0</td>\n",
       "      <td>0</td>\n",
       "      <td>0</td>\n",
       "      <td>0</td>\n",
       "      <td>0</td>\n",
       "      <td>0</td>\n",
       "      <td>0</td>\n",
       "      <td>0</td>\n",
       "      <td>900</td>\n",
       "      <td>0</td>\n",
       "      <td>1213</td>\n",
       "      <td>0</td>\n",
       "      <td>0</td>\n",
       "      <td>0</td>\n",
       "      <td>373</td>\n",
       "      <td>2475</td>\n",
       "      <td>0</td>\n",
       "    </tr>\n",
       "    <tr>\n",
       "      <th>2</th>\n",
       "      <td>2015-09-03</td>\n",
       "      <td>0</td>\n",
       "      <td>0</td>\n",
       "      <td>0</td>\n",
       "      <td>0</td>\n",
       "      <td>0</td>\n",
       "      <td>0</td>\n",
       "      <td>0</td>\n",
       "      <td>0</td>\n",
       "      <td>0</td>\n",
       "      <td>900</td>\n",
       "      <td>0</td>\n",
       "      <td>1213</td>\n",
       "      <td>0</td>\n",
       "      <td>0</td>\n",
       "      <td>0</td>\n",
       "      <td>373</td>\n",
       "      <td>2475</td>\n",
       "      <td>0</td>\n",
       "    </tr>\n",
       "    <tr>\n",
       "      <th>3</th>\n",
       "      <td>2015-09-04</td>\n",
       "      <td>0</td>\n",
       "      <td>0</td>\n",
       "      <td>0</td>\n",
       "      <td>0</td>\n",
       "      <td>0</td>\n",
       "      <td>0</td>\n",
       "      <td>0</td>\n",
       "      <td>0</td>\n",
       "      <td>0</td>\n",
       "      <td>900</td>\n",
       "      <td>0</td>\n",
       "      <td>1213</td>\n",
       "      <td>0</td>\n",
       "      <td>0</td>\n",
       "      <td>0</td>\n",
       "      <td>373</td>\n",
       "      <td>2475</td>\n",
       "      <td>0</td>\n",
       "    </tr>\n",
       "    <tr>\n",
       "      <th>4</th>\n",
       "      <td>2015-09-05</td>\n",
       "      <td>0</td>\n",
       "      <td>0</td>\n",
       "      <td>0</td>\n",
       "      <td>0</td>\n",
       "      <td>0</td>\n",
       "      <td>0</td>\n",
       "      <td>0</td>\n",
       "      <td>0</td>\n",
       "      <td>0</td>\n",
       "      <td>900</td>\n",
       "      <td>0</td>\n",
       "      <td>1213</td>\n",
       "      <td>0</td>\n",
       "      <td>0</td>\n",
       "      <td>0</td>\n",
       "      <td>373</td>\n",
       "      <td>2475</td>\n",
       "      <td>0</td>\n",
       "    </tr>\n",
       "  </tbody>\n",
       "</table>\n",
       "</div>"
      ],
      "text/plain": [
       "   FlightDate  UniqueCarrier  OriginAirportID  OriginAirportSeqID  \\\n",
       "0  2015-09-01              0                0                   0   \n",
       "1  2015-09-02              0                0                   0   \n",
       "2  2015-09-03              0                0                   0   \n",
       "3  2015-09-04              0                0                   0   \n",
       "4  2015-09-05              0                0                   0   \n",
       "\n",
       "   OriginCityMarketID  OriginState  DestAirportID  DestAirportSeqID  \\\n",
       "0                   0            0              0                 0   \n",
       "1                   0            0              0                 0   \n",
       "2                   0            0              0                 0   \n",
       "3                   0            0              0                 0   \n",
       "4                   0            0              0                 0   \n",
       "\n",
       "   DestCityMarketID  DestState  CRSDepTime  DepTimeBlk  CRSArrTime  \\\n",
       "0                 0          0         900           0        1213   \n",
       "1                 0          0         900           0        1213   \n",
       "2                 0          0         900           0        1213   \n",
       "3                 0          0         900           0        1213   \n",
       "4                 0          0         900           0        1213   \n",
       "\n",
       "   ArrTimeBlk  Cancelled  CancellationCode  CRSElapsedTime  Distance  \\\n",
       "0           0          0                 0             373      2475   \n",
       "1           0          0                 0             373      2475   \n",
       "2           0          0                 0             373      2475   \n",
       "3           0          0                 0             373      2475   \n",
       "4           0          0                 0             373      2475   \n",
       "\n",
       "   DistanceGroup  \n",
       "0              0  \n",
       "1              0  \n",
       "2              0  \n",
       "3              0  \n",
       "4              0  "
      ]
     },
     "execution_count": 9,
     "metadata": {},
     "output_type": "execute_result"
    }
   ],
   "source": [
    "def transform_categorical_feature(df, column_name):\n",
    "    unique_values = df[column_name].unique()\n",
    "#     unique_values = set( df[column_name].tolist() ) # this handle NaN better than df[column_name].unique()\n",
    "    transformer_dict = {}\n",
    "    for ii, value in enumerate( unique_values ):\n",
    "        transformer_dict[value] = ii\n",
    "\n",
    "    def label_map(y):\n",
    "        return transformer_dict[y]\n",
    "    \n",
    "    df[column_name] = df[column_name].apply( label_map )\n",
    "    return df\n",
    "\n",
    "\n",
    "categorical_variables = [\"UniqueCarrier\",\n",
    "                         \"OriginAirportID\",\n",
    "                         \"OriginAirportSeqID\",\n",
    "                         \"OriginCityMarketID\",\n",
    "                         \"OriginState\",\n",
    "                         \"DestAirportID\",\n",
    "                         \"DestAirportSeqID\",\n",
    "                         \"DestCityMarketID\",\n",
    "                         \"DepTimeBlk\",\n",
    "                         \"ArrTimeBlk\",\n",
    "                         \"DistanceGroup\",\n",
    "                         \"DestState\",   \n",
    "                         \"Cancelled\",\n",
    "                         \"CancellationCode\"]\n",
    "\n",
    "for var in categorical_variables:\n",
    "    df_transformed = transform_categorical_feature(df, var)\n",
    "    \n",
    "df_transformed.head()"
   ]
  },
  {
   "cell_type": "code",
   "execution_count": 6,
   "metadata": {
    "collapsed": false
   },
   "outputs": [
    {
     "name": "stdout",
     "output_type": "stream",
     "text": [
      "UniqueCarrier: \t13\n",
      "OriginAirportID: \t308\n",
      "OriginAirportSeqID: \t308\n",
      "OriginCityMarketID: \t287\n",
      "OriginState: \t52\n",
      "DestAirportID: \t309\n",
      "DestAirportSeqID: \t309\n",
      "DestCityMarketID: \t288\n",
      "DepTimeBlk: \t19\n",
      "ArrTimeBlk: \t19\n",
      "DistanceGroup: \t11\n",
      "DestState: \t52\n",
      "Cancelled: \t2\n",
      "CancellationCode: \t4\n",
      "total number of categorical dimensions: 1981\n"
     ]
    }
   ],
   "source": [
    "num_of_dim = 0\n",
    "for var in categorical_variables:\n",
    "    dim = df_transformed[var].max() + 1\n",
    "    num_of_dim += dim\n",
    "    print(var + \": \\t\" + str(dim))\n",
    "\n",
    "print(\"total number of categorical dimensions: \" + str(num_of_dim))"
   ]
  },
  {
   "cell_type": "code",
   "execution_count": 73,
   "metadata": {
    "collapsed": false
   },
   "outputs": [
    {
     "data": {
      "text/plain": [
       "0    0\n",
       "1    0\n",
       "2    0\n",
       "3    0\n",
       "4    0\n",
       "Name: CancellationCode, dtype: int64"
      ]
     },
     "execution_count": 73,
     "metadata": {},
     "output_type": "execute_result"
    }
   ],
   "source": [
    "df[\"CancellationCode\"].head()"
   ]
  },
  {
   "cell_type": "code",
   "execution_count": 82,
   "metadata": {
    "collapsed": false
   },
   "outputs": [
    {
     "name": "stdout",
     "output_type": "stream",
     "text": [
      "(464946, 12)\n",
      "(464946,)\n"
     ]
    }
   ],
   "source": [
    "feature_cols = [\"UniqueCarrier\",\n",
    "                \"OriginAirportID\",\n",
    "                \"OriginAirportSeqID\",\n",
    "                \"OriginCityMarketID\",\n",
    "                \"OriginState\",\n",
    "                \"DestAirportID\",\n",
    "                \"DestAirportSeqID\",\n",
    "                \"DestCityMarketID\",\n",
    "                \"DepTimeBlk\",\"ArrTimeBlk\",\n",
    "                \"DistanceGroup\",\n",
    "                \"DestState\"]\n",
    "# target_col = \"Cancelled\"\n",
    "target_col = \"CancellationCode\"\n",
    "\n",
    "feature_array = df_transformed[feature_cols].as_matrix()\n",
    "target_array = (df_transformed[target_col] == 1).as_matrix()\n",
    "\n",
    "print(feature_array.shape)\n",
    "print(target_array.shape)"
   ]
  },
  {
   "cell_type": "code",
   "execution_count": 83,
   "metadata": {
    "collapsed": false
   },
   "outputs": [],
   "source": [
    "from sklearn.preprocessing import OneHotEncoder\n",
    "\n",
    "X_enc = OneHotEncoder()\n",
    "\n",
    "X = X_enc.fit_transform(feature_array)\n",
    "\n",
    "y = target_array"
   ]
  },
  {
   "cell_type": "code",
   "execution_count": 84,
   "metadata": {
    "collapsed": false
   },
   "outputs": [
    {
     "data": {
      "text/plain": [
       "LogisticRegression(C=1.0, class_weight=None, dual=False, fit_intercept=True,\n",
       "          intercept_scaling=1, max_iter=100, multi_class='ovr',\n",
       "          penalty='l2', random_state=None, solver='liblinear', tol=0.0001,\n",
       "          verbose=0)"
      ]
     },
     "execution_count": 84,
     "metadata": {},
     "output_type": "execute_result"
    }
   ],
   "source": [
    "from sklearn import linear_model\n",
    "from sklearn import cross_validation\n",
    "\n",
    "X_train, X_test, y_train, y_test = cross_validation.train_test_split(X, y)\n",
    "\n",
    "clf = linear_model.LogisticRegression(penalty='l2')\n",
    "clf.fit(X_train, y_train)"
   ]
  },
  {
   "cell_type": "code",
   "execution_count": 85,
   "metadata": {
    "collapsed": false
   },
   "outputs": [
    {
     "name": "stdout",
     "output_type": "stream",
     "text": [
      "0.0155806704411\n"
     ]
    }
   ],
   "source": [
    "from sklearn import metrics\n",
    "\n",
    "y_proba = clf.predict_proba(X_test)\n",
    "\n",
    "y_pred = np.divide(y_proba[:, 1], y_proba[:, 0] + y_proba[:, 1])\n",
    "\n",
    "error = metrics.log_loss(y_test, y_proba)\n",
    "print(error)"
   ]
  },
  {
   "cell_type": "code",
   "execution_count": 86,
   "metadata": {
    "collapsed": false
   },
   "outputs": [
    {
     "name": "stdout",
     "output_type": "stream",
     "text": [
      "0.081713770216\n",
      "34.4578603304\n",
      "0.0172662082178\n"
     ]
    }
   ],
   "source": [
    "y_no = np.zeros(y_test.shape)\n",
    "y_yes = np.ones(y_test.shape)\n",
    "\n",
    "n_cancelled = len(df[df[\"Cancelled\"] == 1])\n",
    "n_total = len(df[\"Cancelled\"])\n",
    "p_cancelled = n_cancelled/n_total\n",
    "y_baseline = np.multiply(p, np.ones(y_test.shape))\n",
    "\n",
    "error_no = metrics.log_loss(y_test, y_no)\n",
    "print(error_no)\n",
    "\n",
    "error_yes = metrics.log_loss(y_test, y_yes)\n",
    "print(error_yes)\n",
    "\n",
    "error_baseline = metrics.log_loss(y_test, y_baseline)\n",
    "print(error_baseline) "
   ]
  },
  {
   "cell_type": "code",
   "execution_count": null,
   "metadata": {
    "collapsed": true
   },
   "outputs": [],
   "source": [
    "def transform_date_feature(seq):\n",
    "    return pd.to_datetime(seq, format=\"%Y-%m-%d\")"
   ]
  },
  {
   "cell_type": "code",
   "execution_count": null,
   "metadata": {
    "collapsed": true
   },
   "outputs": [],
   "source": [
    "def make_feature_array(df):\n",
    "    pass"
   ]
  },
  {
   "cell_type": "code",
   "execution_count": null,
   "metadata": {
    "collapsed": true
   },
   "outputs": [],
   "source": [
    "def make_target_vector(df):\n",
    "    pass"
   ]
  },
  {
   "cell_type": "markdown",
   "metadata": {
    "collapsed": true
   },
   "source": [
    "Some features that we want:\n",
    "1. the time of year, to capture seasonal risk\n",
    "2. the absolute date, capture long-term trends\n",
    "\n",
    "Need to calculate a baseline... Just predict the average for all of them and calculate error."
   ]
  }
 ],
 "metadata": {
  "kernelspec": {
   "display_name": "Python 3",
   "language": "python",
   "name": "python3"
  },
  "language_info": {
   "codemirror_mode": {
    "name": "ipython",
    "version": 3
   },
   "file_extension": ".py",
   "mimetype": "text/x-python",
   "name": "python",
   "nbconvert_exporter": "python",
   "pygments_lexer": "ipython3",
   "version": "3.4.4"
  }
 },
 "nbformat": 4,
 "nbformat_minor": 0
}
